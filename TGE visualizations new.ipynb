{
 "cells": [
  {
   "cell_type": "code",
   "execution_count": 1,
   "metadata": {},
   "outputs": [
    {
     "name": "stderr",
     "output_type": "stream",
     "text": [
      "C:\\Users\\willi\\Anaconda3\\lib\\site-packages\\statsmodels\\tools\\_testing.py:19: FutureWarning: pandas.util.testing is deprecated. Use the functions in the public API at pandas.testing instead.\n",
      "  import pandas.util.testing as tm\n"
     ]
    },
    {
     "data": {
      "text/html": [
       "<div>\n",
       "<style scoped>\n",
       "    .dataframe tbody tr th:only-of-type {\n",
       "        vertical-align: middle;\n",
       "    }\n",
       "\n",
       "    .dataframe tbody tr th {\n",
       "        vertical-align: top;\n",
       "    }\n",
       "\n",
       "    .dataframe thead th {\n",
       "        text-align: right;\n",
       "    }\n",
       "</style>\n",
       "<table border=\"1\" class=\"dataframe\">\n",
       "  <thead>\n",
       "    <tr style=\"text-align: right;\">\n",
       "      <th></th>\n",
       "      <th>Unnamed: 0</th>\n",
       "      <th>Unnamed: 1</th>\n",
       "      <th>Unnamed: 2</th>\n",
       "      <th>Unnamed: 3</th>\n",
       "    </tr>\n",
       "  </thead>\n",
       "  <tbody>\n",
       "    <tr>\n",
       "      <th>0</th>\n",
       "      <td>Donation Date</td>\n",
       "      <td>Campaign</td>\n",
       "      <td>Donation Amount</td>\n",
       "      <td>Gift Source</td>\n",
       "    </tr>\n",
       "    <tr>\n",
       "      <th>1</th>\n",
       "      <td>03/23/2019</td>\n",
       "      <td>Jane Sak Birthday Post 03.23.19</td>\n",
       "      <td>100</td>\n",
       "      <td>Facebook</td>\n",
       "    </tr>\n",
       "    <tr>\n",
       "      <th>2</th>\n",
       "      <td>03/23/2019</td>\n",
       "      <td>Jane Sak Birthday Post 03.23.19</td>\n",
       "      <td>19</td>\n",
       "      <td>Facebook</td>\n",
       "    </tr>\n",
       "    <tr>\n",
       "      <th>3</th>\n",
       "      <td>03/23/2019</td>\n",
       "      <td>Jane Sak Birthday Post 03.23.19</td>\n",
       "      <td>10</td>\n",
       "      <td>Facebook</td>\n",
       "    </tr>\n",
       "    <tr>\n",
       "      <th>4</th>\n",
       "      <td>03/23/2019</td>\n",
       "      <td>Jane Sak Birthday Post 03.23.19</td>\n",
       "      <td>20</td>\n",
       "      <td>Facebook</td>\n",
       "    </tr>\n",
       "    <tr>\n",
       "      <th>5</th>\n",
       "      <td>03/23/2019</td>\n",
       "      <td>Jane Sak Birthday Post 03.23.19</td>\n",
       "      <td>25</td>\n",
       "      <td>Facebook</td>\n",
       "    </tr>\n",
       "    <tr>\n",
       "      <th>6</th>\n",
       "      <td>03/23/2019</td>\n",
       "      <td>Jane Sak Birthday Post 03.23.19</td>\n",
       "      <td>25</td>\n",
       "      <td>Facebook</td>\n",
       "    </tr>\n",
       "    <tr>\n",
       "      <th>7</th>\n",
       "      <td>11/28/2017</td>\n",
       "      <td>Facebook's Give Back Tuesday 2017</td>\n",
       "      <td>50</td>\n",
       "      <td>Facebook</td>\n",
       "    </tr>\n",
       "    <tr>\n",
       "      <th>8</th>\n",
       "      <td>11/28/2017</td>\n",
       "      <td>Facebook's Give Back Tuesday 2017</td>\n",
       "      <td>100</td>\n",
       "      <td>Facebook</td>\n",
       "    </tr>\n",
       "    <tr>\n",
       "      <th>9</th>\n",
       "      <td>12/03/2017</td>\n",
       "      <td>Facebook's Give Back Tuesday 2017</td>\n",
       "      <td>50</td>\n",
       "      <td>Facebook</td>\n",
       "    </tr>\n",
       "    <tr>\n",
       "      <th>10</th>\n",
       "      <td>11/28/2017</td>\n",
       "      <td>Facebook's Give Back Tuesday 2017</td>\n",
       "      <td>50</td>\n",
       "      <td>Facebook</td>\n",
       "    </tr>\n",
       "    <tr>\n",
       "      <th>11</th>\n",
       "      <td>11/28/2017</td>\n",
       "      <td>Facebook's Give Back Tuesday 2017</td>\n",
       "      <td>100</td>\n",
       "      <td>Facebook</td>\n",
       "    </tr>\n",
       "    <tr>\n",
       "      <th>12</th>\n",
       "      <td>11/28/2017</td>\n",
       "      <td>Facebook's Give Back Tuesday 2017</td>\n",
       "      <td>20</td>\n",
       "      <td>Facebook</td>\n",
       "    </tr>\n",
       "    <tr>\n",
       "      <th>13</th>\n",
       "      <td>11/28/2017</td>\n",
       "      <td>Facebook's Give Back Tuesday 2017</td>\n",
       "      <td>20</td>\n",
       "      <td>Facebook</td>\n",
       "    </tr>\n",
       "    <tr>\n",
       "      <th>14</th>\n",
       "      <td>11/28/2017</td>\n",
       "      <td>Facebook's Give Back Tuesday 2017</td>\n",
       "      <td>100</td>\n",
       "      <td>Facebook</td>\n",
       "    </tr>\n",
       "    <tr>\n",
       "      <th>15</th>\n",
       "      <td>11/29/2017</td>\n",
       "      <td>Facebook's Give Back Tuesday 2017</td>\n",
       "      <td>50</td>\n",
       "      <td>Facebook</td>\n",
       "    </tr>\n",
       "    <tr>\n",
       "      <th>16</th>\n",
       "      <td>12/03/2017</td>\n",
       "      <td>Facebook's Give Back Tuesday 2017</td>\n",
       "      <td>250</td>\n",
       "      <td>Facebook</td>\n",
       "    </tr>\n",
       "    <tr>\n",
       "      <th>17</th>\n",
       "      <td>11/29/2017</td>\n",
       "      <td>Facebook's Give Back Tuesday 2017</td>\n",
       "      <td>50</td>\n",
       "      <td>Facebook</td>\n",
       "    </tr>\n",
       "    <tr>\n",
       "      <th>18</th>\n",
       "      <td>11/28/2017</td>\n",
       "      <td>Facebook's Give Back Tuesday 2017</td>\n",
       "      <td>20</td>\n",
       "      <td>Facebook</td>\n",
       "    </tr>\n",
       "    <tr>\n",
       "      <th>19</th>\n",
       "      <td>05/05/2020</td>\n",
       "      <td>Emergency Food Project for Kiambu</td>\n",
       "      <td>50</td>\n",
       "      <td>Facebook</td>\n",
       "    </tr>\n",
       "    <tr>\n",
       "      <th>20</th>\n",
       "      <td>05/05/2020</td>\n",
       "      <td>Giving Tuesday Facebook Fundraiser 2020</td>\n",
       "      <td>250</td>\n",
       "      <td>Facebook</td>\n",
       "    </tr>\n",
       "    <tr>\n",
       "      <th>21</th>\n",
       "      <td>05/05/2020</td>\n",
       "      <td>Giving Tuesday Facebook Fundraiser 2020</td>\n",
       "      <td>500</td>\n",
       "      <td>Facebook</td>\n",
       "    </tr>\n",
       "    <tr>\n",
       "      <th>22</th>\n",
       "      <td>05/05/2020</td>\n",
       "      <td>Giving Tuesday Facebook Fundraiser 2020</td>\n",
       "      <td>10</td>\n",
       "      <td>Facebook</td>\n",
       "    </tr>\n",
       "    <tr>\n",
       "      <th>23</th>\n",
       "      <td>05/05/2020</td>\n",
       "      <td>Giving Tuesday Facebook Fundraiser 2020</td>\n",
       "      <td>100</td>\n",
       "      <td>Facebook</td>\n",
       "    </tr>\n",
       "    <tr>\n",
       "      <th>24</th>\n",
       "      <td>05/05/2020</td>\n",
       "      <td>Giving Tuesday Facebook Fundraiser 2020</td>\n",
       "      <td>250</td>\n",
       "      <td>Facebook</td>\n",
       "    </tr>\n",
       "    <tr>\n",
       "      <th>25</th>\n",
       "      <td>05/05/2020</td>\n",
       "      <td>Giving Tuesday Facebook Fundraiser 2020</td>\n",
       "      <td>50</td>\n",
       "      <td>Facebook</td>\n",
       "    </tr>\n",
       "    <tr>\n",
       "      <th>26</th>\n",
       "      <td>05/05/2020</td>\n",
       "      <td>Giving Tuesday Facebook Fundraiser 2020</td>\n",
       "      <td>25</td>\n",
       "      <td>Facebook</td>\n",
       "    </tr>\n",
       "    <tr>\n",
       "      <th>27</th>\n",
       "      <td>05/05/2020</td>\n",
       "      <td>Giving Tuesday Facebook Fundraiser 2020</td>\n",
       "      <td>150</td>\n",
       "      <td>Facebook</td>\n",
       "    </tr>\n",
       "    <tr>\n",
       "      <th>28</th>\n",
       "      <td>05/05/2020</td>\n",
       "      <td>Giving Tuesday Facebook Fundraiser 2020</td>\n",
       "      <td>25</td>\n",
       "      <td>Facebook</td>\n",
       "    </tr>\n",
       "    <tr>\n",
       "      <th>29</th>\n",
       "      <td>10/11/2019</td>\n",
       "      <td>Oct 2019 Music Program 15k Goal</td>\n",
       "      <td>100</td>\n",
       "      <td>PayPal</td>\n",
       "    </tr>\n",
       "    <tr>\n",
       "      <th>30</th>\n",
       "      <td>10/14/2019</td>\n",
       "      <td>Oct 2019 Music Program 15k Goal</td>\n",
       "      <td>1000</td>\n",
       "      <td>PayPal</td>\n",
       "    </tr>\n",
       "    <tr>\n",
       "      <th>31</th>\n",
       "      <td>03/18/2020</td>\n",
       "      <td>Greenhouse for the Kiu River School</td>\n",
       "      <td>26</td>\n",
       "      <td>Website - direct through Fundly widget or pages</td>\n",
       "    </tr>\n",
       "    <tr>\n",
       "      <th>32</th>\n",
       "      <td>05/05/2020</td>\n",
       "      <td>Greenhouse for the Kiu River School</td>\n",
       "      <td>250</td>\n",
       "      <td>Website - direct through Fundly widget or pages</td>\n",
       "    </tr>\n",
       "    <tr>\n",
       "      <th>33</th>\n",
       "      <td>05/05/2020</td>\n",
       "      <td>Greenhouse for the Kiu River School</td>\n",
       "      <td>10</td>\n",
       "      <td>Website - direct through Fundly widget or pages</td>\n",
       "    </tr>\n",
       "    <tr>\n",
       "      <th>34</th>\n",
       "      <td>05/05/2020</td>\n",
       "      <td>Greenhouse for the Kiu River School</td>\n",
       "      <td>10</td>\n",
       "      <td>Website - direct through Fundly widget or pages</td>\n",
       "    </tr>\n",
       "    <tr>\n",
       "      <th>35</th>\n",
       "      <td>05/05/2020</td>\n",
       "      <td>Greenhouse for the Kiu River School</td>\n",
       "      <td>100</td>\n",
       "      <td>Website - direct through Fundly widget or pages</td>\n",
       "    </tr>\n",
       "    <tr>\n",
       "      <th>36</th>\n",
       "      <td>06/05/2020</td>\n",
       "      <td>Greenhouse for the Kiu River School</td>\n",
       "      <td>10</td>\n",
       "      <td>Website - direct through Fundly widget or pages</td>\n",
       "    </tr>\n",
       "    <tr>\n",
       "      <th>37</th>\n",
       "      <td>07/05/2020</td>\n",
       "      <td>Greenhouse for the Kiu River School</td>\n",
       "      <td>10</td>\n",
       "      <td>Website - direct through Fundly widget or pages</td>\n",
       "    </tr>\n",
       "    <tr>\n",
       "      <th>38</th>\n",
       "      <td>10/17/2020</td>\n",
       "      <td>Njoo Dada Trade School For Young Mothers</td>\n",
       "      <td>206</td>\n",
       "      <td>Website - direct through Fundly widget or pages</td>\n",
       "    </tr>\n",
       "    <tr>\n",
       "      <th>39</th>\n",
       "      <td>10/18/2020</td>\n",
       "      <td>Njoo Dada Trade School For Young Mothers</td>\n",
       "      <td>10</td>\n",
       "      <td>Website - direct through Fundly widget or pages</td>\n",
       "    </tr>\n",
       "    <tr>\n",
       "      <th>40</th>\n",
       "      <td>11/18/2020</td>\n",
       "      <td>Njoo Dada Trade School For Young Mothers</td>\n",
       "      <td>10</td>\n",
       "      <td>Website - direct through Fundly widget or pages</td>\n",
       "    </tr>\n",
       "    <tr>\n",
       "      <th>41</th>\n",
       "      <td>12/18/2020</td>\n",
       "      <td>Njoo Dada Trade School For Young Mothers</td>\n",
       "      <td>10</td>\n",
       "      <td>Website - direct through Fundly widget or pages</td>\n",
       "    </tr>\n",
       "    <tr>\n",
       "      <th>42</th>\n",
       "      <td>01/18/2021</td>\n",
       "      <td>Njoo Dada Trade School For Young Mothers</td>\n",
       "      <td>10</td>\n",
       "      <td>Website - direct through Fundly widget or pages</td>\n",
       "    </tr>\n",
       "    <tr>\n",
       "      <th>43</th>\n",
       "      <td>02/18/2021</td>\n",
       "      <td>Njoo Dada Trade School For Young Mothers</td>\n",
       "      <td>10</td>\n",
       "      <td>Website - direct through Fundly widget or pages</td>\n",
       "    </tr>\n",
       "    <tr>\n",
       "      <th>44</th>\n",
       "      <td>03/18/2021</td>\n",
       "      <td>Njoo Dada Trade School For Young Mothers</td>\n",
       "      <td>10</td>\n",
       "      <td>Website - direct through Fundly widget or pages</td>\n",
       "    </tr>\n",
       "    <tr>\n",
       "      <th>45</th>\n",
       "      <td>03/21/2021</td>\n",
       "      <td>Njoo Dada Trade School For Young Mothers</td>\n",
       "      <td>85</td>\n",
       "      <td>Website - direct through Fundly widget or pages</td>\n",
       "    </tr>\n",
       "    <tr>\n",
       "      <th>46</th>\n",
       "      <td>03/29/2021</td>\n",
       "      <td>Njoo Dada Trade School For Young Mothers</td>\n",
       "      <td>85</td>\n",
       "      <td>Website - direct through Fundly widget or pages</td>\n",
       "    </tr>\n",
       "    <tr>\n",
       "      <th>47</th>\n",
       "      <td>04/18/2021</td>\n",
       "      <td>Njoo Dada Trade School For Young Mothers</td>\n",
       "      <td>10</td>\n",
       "      <td>Website - direct through Fundly widget or pages</td>\n",
       "    </tr>\n",
       "    <tr>\n",
       "      <th>48</th>\n",
       "      <td>06/20/2020</td>\n",
       "      <td>Greenhouse for Saint Anne's Secondary School</td>\n",
       "      <td>25</td>\n",
       "      <td>Website - direct through Fundly widget or pages</td>\n",
       "    </tr>\n",
       "    <tr>\n",
       "      <th>49</th>\n",
       "      <td>03/28/2020</td>\n",
       "      <td>A Well For Uganda’s Buvad Youth Center</td>\n",
       "      <td>50</td>\n",
       "      <td>Website - direct through Fundly widget or pages</td>\n",
       "    </tr>\n",
       "    <tr>\n",
       "      <th>50</th>\n",
       "      <td>10/07/2020</td>\n",
       "      <td>Sponsorship Program for Morning Star Home</td>\n",
       "      <td>250</td>\n",
       "      <td>Website - direct through Fundly widget or pages</td>\n",
       "    </tr>\n",
       "    <tr>\n",
       "      <th>51</th>\n",
       "      <td>10/08/2020</td>\n",
       "      <td>Sponsorship Program for Morning Star Home</td>\n",
       "      <td>51</td>\n",
       "      <td>Website - direct through Fundly widget or pages</td>\n",
       "    </tr>\n",
       "    <tr>\n",
       "      <th>52</th>\n",
       "      <td>05/19/2020</td>\n",
       "      <td>Emergency Food Project for Kiambu</td>\n",
       "      <td>25</td>\n",
       "      <td>Website - direct through Fundly widget or pages</td>\n",
       "    </tr>\n",
       "    <tr>\n",
       "      <th>53</th>\n",
       "      <td>05/19/2020</td>\n",
       "      <td>Emergency Food Project for Kiambu</td>\n",
       "      <td>250</td>\n",
       "      <td>Website - direct through Fundly widget or pages</td>\n",
       "    </tr>\n",
       "    <tr>\n",
       "      <th>54</th>\n",
       "      <td>05/19/2020</td>\n",
       "      <td>Emergency Food Project for Kiambu</td>\n",
       "      <td>250</td>\n",
       "      <td>Website - direct through Fundly widget or pages</td>\n",
       "    </tr>\n",
       "    <tr>\n",
       "      <th>55</th>\n",
       "      <td>05/19/2020</td>\n",
       "      <td>Emergency Food Project for Kiambu</td>\n",
       "      <td>1000</td>\n",
       "      <td>Website - direct through Fundly widget or pages</td>\n",
       "    </tr>\n",
       "    <tr>\n",
       "      <th>56</th>\n",
       "      <td>05/19/2020</td>\n",
       "      <td>Emergency Food Project for Kiambu</td>\n",
       "      <td>25</td>\n",
       "      <td>Website - direct through Fundly widget or pages</td>\n",
       "    </tr>\n",
       "    <tr>\n",
       "      <th>57</th>\n",
       "      <td>12/19/2020</td>\n",
       "      <td>Emergency Food Project for Kiambu</td>\n",
       "      <td>25</td>\n",
       "      <td>Website - direct through Fundly widget or pages</td>\n",
       "    </tr>\n",
       "    <tr>\n",
       "      <th>58</th>\n",
       "      <td>01/19/2021</td>\n",
       "      <td>Emergency Food Project for Kiambu</td>\n",
       "      <td>25</td>\n",
       "      <td>Website - direct through Fundly widget or pages</td>\n",
       "    </tr>\n",
       "    <tr>\n",
       "      <th>59</th>\n",
       "      <td>02/19/2021</td>\n",
       "      <td>Emergency Food Project for Kiambu</td>\n",
       "      <td>25</td>\n",
       "      <td>Website - direct through Fundly widget or pages</td>\n",
       "    </tr>\n",
       "    <tr>\n",
       "      <th>60</th>\n",
       "      <td>03/19/2021</td>\n",
       "      <td>Emergency Food Project for Kiambu</td>\n",
       "      <td>25</td>\n",
       "      <td>Website - direct through Fundly widget or pages</td>\n",
       "    </tr>\n",
       "    <tr>\n",
       "      <th>61</th>\n",
       "      <td>04/19/2021</td>\n",
       "      <td>Emergency Food Project for Kiambu</td>\n",
       "      <td>25</td>\n",
       "      <td>Website - direct through Fundly widget or pages</td>\n",
       "    </tr>\n",
       "    <tr>\n",
       "      <th>62</th>\n",
       "      <td>08/19/2020</td>\n",
       "      <td>Emergency Food Project for Kiambu</td>\n",
       "      <td>25</td>\n",
       "      <td>Website - direct through Fundly widget or pages</td>\n",
       "    </tr>\n",
       "    <tr>\n",
       "      <th>63</th>\n",
       "      <td>08/19/2020</td>\n",
       "      <td>Emergency Food Project for Kiambu</td>\n",
       "      <td>5</td>\n",
       "      <td>Website - direct through Fundly widget or pages</td>\n",
       "    </tr>\n",
       "    <tr>\n",
       "      <th>64</th>\n",
       "      <td>09/13/2020</td>\n",
       "      <td>Emergency Food Project for Kiambu</td>\n",
       "      <td>100</td>\n",
       "      <td>Website - direct through Fundly widget or pages</td>\n",
       "    </tr>\n",
       "    <tr>\n",
       "      <th>65</th>\n",
       "      <td>09/19/2020</td>\n",
       "      <td>Emergency Food Project for Kiambu</td>\n",
       "      <td>25</td>\n",
       "      <td>Website - direct through Fundly widget or pages</td>\n",
       "    </tr>\n",
       "    <tr>\n",
       "      <th>66</th>\n",
       "      <td>10/19/2020</td>\n",
       "      <td>Emergency Food Project for Kiambu</td>\n",
       "      <td>25</td>\n",
       "      <td>Website - direct through Fundly widget or pages</td>\n",
       "    </tr>\n",
       "    <tr>\n",
       "      <th>67</th>\n",
       "      <td>11/19/2020</td>\n",
       "      <td>Emergency Food Project for Kiambu</td>\n",
       "      <td>25</td>\n",
       "      <td>Website - direct through Fundly widget or pages</td>\n",
       "    </tr>\n",
       "    <tr>\n",
       "      <th>68</th>\n",
       "      <td>06/03/2020</td>\n",
       "      <td>Emergency Food Project for Kiambu</td>\n",
       "      <td>50</td>\n",
       "      <td>Website - direct through Fundly widget or pages</td>\n",
       "    </tr>\n",
       "    <tr>\n",
       "      <th>69</th>\n",
       "      <td>06/11/2020</td>\n",
       "      <td>Emergency Food Project for Kiambu</td>\n",
       "      <td>100</td>\n",
       "      <td>Website - direct through Fundly widget or pages</td>\n",
       "    </tr>\n",
       "    <tr>\n",
       "      <th>70</th>\n",
       "      <td>06/19/2020</td>\n",
       "      <td>Emergency Food Project for Kiambu</td>\n",
       "      <td>25</td>\n",
       "      <td>Website - direct through Fundly widget or pages</td>\n",
       "    </tr>\n",
       "    <tr>\n",
       "      <th>71</th>\n",
       "      <td>07/19/2020</td>\n",
       "      <td>Emergency Food Project for Kiambu</td>\n",
       "      <td>25</td>\n",
       "      <td>Website - direct through Fundly widget or pages</td>\n",
       "    </tr>\n",
       "    <tr>\n",
       "      <th>72</th>\n",
       "      <td>07/19/2020</td>\n",
       "      <td>Emergency Food Project for Kiambu</td>\n",
       "      <td>50</td>\n",
       "      <td>Website - direct through Fundly widget or pages</td>\n",
       "    </tr>\n",
       "    <tr>\n",
       "      <th>73</th>\n",
       "      <td>05/19/2020</td>\n",
       "      <td>Emergency Food Project for Kiambu</td>\n",
       "      <td>250</td>\n",
       "      <td>Website - direct through Fundly widget or pages</td>\n",
       "    </tr>\n",
       "    <tr>\n",
       "      <th>74</th>\n",
       "      <td>05/19/2020</td>\n",
       "      <td>Emergency Food Project for Kiambu</td>\n",
       "      <td>50</td>\n",
       "      <td>Website - direct through Fundly widget or pages</td>\n",
       "    </tr>\n",
       "    <tr>\n",
       "      <th>75</th>\n",
       "      <td>05/19/2020</td>\n",
       "      <td>Emergency Food Project for Kiambu</td>\n",
       "      <td>750</td>\n",
       "      <td>Website - direct through Fundly widget or pages</td>\n",
       "    </tr>\n",
       "    <tr>\n",
       "      <th>76</th>\n",
       "      <td>05/20/2020</td>\n",
       "      <td>Emergency Food Project for Kiambu</td>\n",
       "      <td>51</td>\n",
       "      <td>Website - direct through Fundly widget or pages</td>\n",
       "    </tr>\n",
       "    <tr>\n",
       "      <th>77</th>\n",
       "      <td>05/20/2020</td>\n",
       "      <td>Emergency Food Project for Kiambu</td>\n",
       "      <td>25</td>\n",
       "      <td>Website - direct through Fundly widget or pages</td>\n",
       "    </tr>\n",
       "    <tr>\n",
       "      <th>78</th>\n",
       "      <td>05/20/2020</td>\n",
       "      <td>Emergency Food Project for Kiambu</td>\n",
       "      <td>50</td>\n",
       "      <td>Website - direct through Fundly widget or pages</td>\n",
       "    </tr>\n",
       "    <tr>\n",
       "      <th>79</th>\n",
       "      <td>03/23/2019</td>\n",
       "      <td>Jane Sak Birthday Post 03.23.19</td>\n",
       "      <td>25</td>\n",
       "      <td>Other</td>\n",
       "    </tr>\n",
       "    <tr>\n",
       "      <th>80</th>\n",
       "      <td>12/15/2020</td>\n",
       "      <td>Renato Simone Aviation Scholarship</td>\n",
       "      <td>0</td>\n",
       "      <td>Other</td>\n",
       "    </tr>\n",
       "    <tr>\n",
       "      <th>81</th>\n",
       "      <td>12/15/2020</td>\n",
       "      <td>Renato Simone Aviation Scholarship</td>\n",
       "      <td>0</td>\n",
       "      <td>Other</td>\n",
       "    </tr>\n",
       "    <tr>\n",
       "      <th>82</th>\n",
       "      <td>05/10/2020</td>\n",
       "      <td>Emergency Food Project for Kiambu</td>\n",
       "      <td>2500</td>\n",
       "      <td>Mail</td>\n",
       "    </tr>\n",
       "  </tbody>\n",
       "</table>\n",
       "</div>"
      ],
      "text/plain": [
       "       Unnamed: 0                                    Unnamed: 1  \\\n",
       "0   Donation Date                                      Campaign   \n",
       "1      03/23/2019               Jane Sak Birthday Post 03.23.19   \n",
       "2      03/23/2019               Jane Sak Birthday Post 03.23.19   \n",
       "3      03/23/2019               Jane Sak Birthday Post 03.23.19   \n",
       "4      03/23/2019               Jane Sak Birthday Post 03.23.19   \n",
       "5      03/23/2019               Jane Sak Birthday Post 03.23.19   \n",
       "6      03/23/2019               Jane Sak Birthday Post 03.23.19   \n",
       "7      11/28/2017             Facebook's Give Back Tuesday 2017   \n",
       "8      11/28/2017             Facebook's Give Back Tuesday 2017   \n",
       "9      12/03/2017             Facebook's Give Back Tuesday 2017   \n",
       "10     11/28/2017             Facebook's Give Back Tuesday 2017   \n",
       "11     11/28/2017             Facebook's Give Back Tuesday 2017   \n",
       "12     11/28/2017             Facebook's Give Back Tuesday 2017   \n",
       "13     11/28/2017             Facebook's Give Back Tuesday 2017   \n",
       "14     11/28/2017             Facebook's Give Back Tuesday 2017   \n",
       "15     11/29/2017             Facebook's Give Back Tuesday 2017   \n",
       "16     12/03/2017             Facebook's Give Back Tuesday 2017   \n",
       "17     11/29/2017             Facebook's Give Back Tuesday 2017   \n",
       "18     11/28/2017             Facebook's Give Back Tuesday 2017   \n",
       "19     05/05/2020             Emergency Food Project for Kiambu   \n",
       "20     05/05/2020       Giving Tuesday Facebook Fundraiser 2020   \n",
       "21     05/05/2020       Giving Tuesday Facebook Fundraiser 2020   \n",
       "22     05/05/2020       Giving Tuesday Facebook Fundraiser 2020   \n",
       "23     05/05/2020       Giving Tuesday Facebook Fundraiser 2020   \n",
       "24     05/05/2020       Giving Tuesday Facebook Fundraiser 2020   \n",
       "25     05/05/2020       Giving Tuesday Facebook Fundraiser 2020   \n",
       "26     05/05/2020       Giving Tuesday Facebook Fundraiser 2020   \n",
       "27     05/05/2020       Giving Tuesday Facebook Fundraiser 2020   \n",
       "28     05/05/2020       Giving Tuesday Facebook Fundraiser 2020   \n",
       "29     10/11/2019               Oct 2019 Music Program 15k Goal   \n",
       "30     10/14/2019               Oct 2019 Music Program 15k Goal   \n",
       "31     03/18/2020           Greenhouse for the Kiu River School   \n",
       "32     05/05/2020           Greenhouse for the Kiu River School   \n",
       "33     05/05/2020           Greenhouse for the Kiu River School   \n",
       "34     05/05/2020           Greenhouse for the Kiu River School   \n",
       "35     05/05/2020           Greenhouse for the Kiu River School   \n",
       "36     06/05/2020           Greenhouse for the Kiu River School   \n",
       "37     07/05/2020           Greenhouse for the Kiu River School   \n",
       "38     10/17/2020      Njoo Dada Trade School For Young Mothers   \n",
       "39     10/18/2020      Njoo Dada Trade School For Young Mothers   \n",
       "40     11/18/2020      Njoo Dada Trade School For Young Mothers   \n",
       "41     12/18/2020      Njoo Dada Trade School For Young Mothers   \n",
       "42     01/18/2021      Njoo Dada Trade School For Young Mothers   \n",
       "43     02/18/2021      Njoo Dada Trade School For Young Mothers   \n",
       "44     03/18/2021      Njoo Dada Trade School For Young Mothers   \n",
       "45     03/21/2021      Njoo Dada Trade School For Young Mothers   \n",
       "46     03/29/2021      Njoo Dada Trade School For Young Mothers   \n",
       "47     04/18/2021      Njoo Dada Trade School For Young Mothers   \n",
       "48     06/20/2020  Greenhouse for Saint Anne's Secondary School   \n",
       "49     03/28/2020        A Well For Uganda’s Buvad Youth Center   \n",
       "50     10/07/2020     Sponsorship Program for Morning Star Home   \n",
       "51     10/08/2020     Sponsorship Program for Morning Star Home   \n",
       "52     05/19/2020             Emergency Food Project for Kiambu   \n",
       "53     05/19/2020             Emergency Food Project for Kiambu   \n",
       "54     05/19/2020             Emergency Food Project for Kiambu   \n",
       "55     05/19/2020             Emergency Food Project for Kiambu   \n",
       "56     05/19/2020             Emergency Food Project for Kiambu   \n",
       "57     12/19/2020             Emergency Food Project for Kiambu   \n",
       "58     01/19/2021             Emergency Food Project for Kiambu   \n",
       "59     02/19/2021             Emergency Food Project for Kiambu   \n",
       "60     03/19/2021             Emergency Food Project for Kiambu   \n",
       "61     04/19/2021             Emergency Food Project for Kiambu   \n",
       "62     08/19/2020             Emergency Food Project for Kiambu   \n",
       "63     08/19/2020             Emergency Food Project for Kiambu   \n",
       "64     09/13/2020             Emergency Food Project for Kiambu   \n",
       "65     09/19/2020             Emergency Food Project for Kiambu   \n",
       "66     10/19/2020             Emergency Food Project for Kiambu   \n",
       "67     11/19/2020             Emergency Food Project for Kiambu   \n",
       "68     06/03/2020             Emergency Food Project for Kiambu   \n",
       "69     06/11/2020             Emergency Food Project for Kiambu   \n",
       "70     06/19/2020             Emergency Food Project for Kiambu   \n",
       "71     07/19/2020             Emergency Food Project for Kiambu   \n",
       "72     07/19/2020             Emergency Food Project for Kiambu   \n",
       "73     05/19/2020             Emergency Food Project for Kiambu   \n",
       "74     05/19/2020             Emergency Food Project for Kiambu   \n",
       "75     05/19/2020             Emergency Food Project for Kiambu   \n",
       "76     05/20/2020             Emergency Food Project for Kiambu   \n",
       "77     05/20/2020             Emergency Food Project for Kiambu   \n",
       "78     05/20/2020             Emergency Food Project for Kiambu   \n",
       "79     03/23/2019               Jane Sak Birthday Post 03.23.19   \n",
       "80     12/15/2020            Renato Simone Aviation Scholarship   \n",
       "81     12/15/2020            Renato Simone Aviation Scholarship   \n",
       "82     05/10/2020             Emergency Food Project for Kiambu   \n",
       "\n",
       "         Unnamed: 2                                       Unnamed: 3  \n",
       "0   Donation Amount                                      Gift Source  \n",
       "1               100                                         Facebook  \n",
       "2                19                                         Facebook  \n",
       "3                10                                         Facebook  \n",
       "4                20                                         Facebook  \n",
       "5                25                                         Facebook  \n",
       "6                25                                         Facebook  \n",
       "7                50                                         Facebook  \n",
       "8               100                                         Facebook  \n",
       "9                50                                         Facebook  \n",
       "10               50                                         Facebook  \n",
       "11              100                                         Facebook  \n",
       "12               20                                         Facebook  \n",
       "13               20                                         Facebook  \n",
       "14              100                                         Facebook  \n",
       "15               50                                         Facebook  \n",
       "16              250                                         Facebook  \n",
       "17               50                                         Facebook  \n",
       "18               20                                         Facebook  \n",
       "19               50                                         Facebook  \n",
       "20              250                                         Facebook  \n",
       "21              500                                         Facebook  \n",
       "22               10                                         Facebook  \n",
       "23              100                                         Facebook  \n",
       "24              250                                         Facebook  \n",
       "25               50                                         Facebook  \n",
       "26               25                                         Facebook  \n",
       "27              150                                         Facebook  \n",
       "28               25                                         Facebook  \n",
       "29              100                                           PayPal  \n",
       "30             1000                                           PayPal  \n",
       "31               26  Website - direct through Fundly widget or pages  \n",
       "32              250  Website - direct through Fundly widget or pages  \n",
       "33               10  Website - direct through Fundly widget or pages  \n",
       "34               10  Website - direct through Fundly widget or pages  \n",
       "35              100  Website - direct through Fundly widget or pages  \n",
       "36               10  Website - direct through Fundly widget or pages  \n",
       "37               10  Website - direct through Fundly widget or pages  \n",
       "38              206  Website - direct through Fundly widget or pages  \n",
       "39               10  Website - direct through Fundly widget or pages  \n",
       "40               10  Website - direct through Fundly widget or pages  \n",
       "41               10  Website - direct through Fundly widget or pages  \n",
       "42               10  Website - direct through Fundly widget or pages  \n",
       "43               10  Website - direct through Fundly widget or pages  \n",
       "44               10  Website - direct through Fundly widget or pages  \n",
       "45               85  Website - direct through Fundly widget or pages  \n",
       "46               85  Website - direct through Fundly widget or pages  \n",
       "47               10  Website - direct through Fundly widget or pages  \n",
       "48               25  Website - direct through Fundly widget or pages  \n",
       "49               50  Website - direct through Fundly widget or pages  \n",
       "50              250  Website - direct through Fundly widget or pages  \n",
       "51               51  Website - direct through Fundly widget or pages  \n",
       "52               25  Website - direct through Fundly widget or pages  \n",
       "53              250  Website - direct through Fundly widget or pages  \n",
       "54              250  Website - direct through Fundly widget or pages  \n",
       "55             1000  Website - direct through Fundly widget or pages  \n",
       "56               25  Website - direct through Fundly widget or pages  \n",
       "57               25  Website - direct through Fundly widget or pages  \n",
       "58               25  Website - direct through Fundly widget or pages  \n",
       "59               25  Website - direct through Fundly widget or pages  \n",
       "60               25  Website - direct through Fundly widget or pages  \n",
       "61               25  Website - direct through Fundly widget or pages  \n",
       "62               25  Website - direct through Fundly widget or pages  \n",
       "63                5  Website - direct through Fundly widget or pages  \n",
       "64              100  Website - direct through Fundly widget or pages  \n",
       "65               25  Website - direct through Fundly widget or pages  \n",
       "66               25  Website - direct through Fundly widget or pages  \n",
       "67               25  Website - direct through Fundly widget or pages  \n",
       "68               50  Website - direct through Fundly widget or pages  \n",
       "69              100  Website - direct through Fundly widget or pages  \n",
       "70               25  Website - direct through Fundly widget or pages  \n",
       "71               25  Website - direct through Fundly widget or pages  \n",
       "72               50  Website - direct through Fundly widget or pages  \n",
       "73              250  Website - direct through Fundly widget or pages  \n",
       "74               50  Website - direct through Fundly widget or pages  \n",
       "75              750  Website - direct through Fundly widget or pages  \n",
       "76               51  Website - direct through Fundly widget or pages  \n",
       "77               25  Website - direct through Fundly widget or pages  \n",
       "78               50  Website - direct through Fundly widget or pages  \n",
       "79               25                                            Other  \n",
       "80                0                                            Other  \n",
       "81                0                                            Other  \n",
       "82             2500                                             Mail  "
      ]
     },
     "execution_count": 1,
     "metadata": {},
     "output_type": "execute_result"
    }
   ],
   "source": [
    "import numpy as np\n",
    "import seaborn as sns\n",
    "import matplotlib.pyplot as plt\n",
    "%matplotlib inline\n",
    "import pandas as pd\n",
    "pd.set_option('display.max_rows', None)\n",
    "df = pd.read_csv('TGE Data for viz.csv',)\n",
    "df"
   ]
  },
  {
   "cell_type": "markdown",
   "metadata": {},
   "source": [
    "## The data above is ordered by campaign not by date"
   ]
  },
  {
   "cell_type": "code",
   "execution_count": 2,
   "metadata": {},
   "outputs": [],
   "source": [
    "df = df.rename(columns={'Unnamed: 0':'Donation Date','Unnamed: 1':'Campaign','Unnamed: 2':'Donation Amount',\n",
    "                  'Unnamed: 3':'Gift source'})"
   ]
  },
  {
   "cell_type": "markdown",
   "metadata": {},
   "source": [
    "## I renamed the columns and got rid of the 1st row since those are the names of the data points I pulled from fundly"
   ]
  },
  {
   "cell_type": "code",
   "execution_count": 3,
   "metadata": {},
   "outputs": [],
   "source": [
    "df = df[1:]"
   ]
  },
  {
   "cell_type": "code",
   "execution_count": 4,
   "metadata": {},
   "outputs": [],
   "source": [
    "df['Donation Amount'] = df['Donation Amount'].astype(float)"
   ]
  },
  {
   "cell_type": "markdown",
   "metadata": {},
   "source": [
    "## There are 82 records in the data, most donations fell within 21 - 100 but a donation around 25 seems to be most commom, and 2500 was the largest donation"
   ]
  },
  {
   "cell_type": "code",
   "execution_count": 10,
   "metadata": {},
   "outputs": [
    {
     "data": {
      "text/plain": [
       "count      82.000000\n",
       "mean      129.731707\n",
       "std       322.096989\n",
       "min         0.000000\n",
       "25%        21.250000\n",
       "50%        25.500000\n",
       "75%       100.000000\n",
       "max      2500.000000\n",
       "Name: Donation Amount, dtype: float64"
      ]
     },
     "execution_count": 10,
     "metadata": {},
     "output_type": "execute_result"
    }
   ],
   "source": [
    "df['Donation Amount'].describe()"
   ]
  },
  {
   "cell_type": "markdown",
   "metadata": {},
   "source": [
    "## The total sum of all donations was 10,638.  I did not include cents but I'll include that for the analysis of total unrestricted donations."
   ]
  },
  {
   "cell_type": "code",
   "execution_count": 11,
   "metadata": {},
   "outputs": [
    {
     "data": {
      "text/plain": [
       "10638.0"
      ]
     },
     "execution_count": 11,
     "metadata": {},
     "output_type": "execute_result"
    }
   ],
   "source": [
    "df['Donation Amount'].sum()"
   ]
  },
  {
   "cell_type": "code",
   "execution_count": 9,
   "metadata": {},
   "outputs": [
    {
     "data": {
      "text/plain": [
       "<AxesSubplot:xlabel='Donation Amount'>"
      ]
     },
     "execution_count": 9,
     "metadata": {},
     "output_type": "execute_result"
    },
    {
     "data": {
      "image/png": "[encoded data removed]",
      "text/plain": [
       "<Figure size 432x288 with 1 Axes>"
      ]
     },
     "metadata": {
      "needs_background": "light"
     },
     "output_type": "display_data"
    }
   ],
   "source": [
    "sns.boxplot(df['Donation Amount'])"
   ]
  },
  {
   "cell_type": "code",
   "execution_count": 8,
   "metadata": {},
   "outputs": [
    {
     "data": {
      "text/plain": [
       "<AxesSubplot:>"
      ]
     },
     "execution_count": 8,
     "metadata": {},
     "output_type": "execute_result"
    },
    {
     "data": {
      "image/png": "[encoded data removed]",
      "text/plain": [
       "<Figure size 432x288 with 1 Axes>"
      ]
     },
     "metadata": {
      "needs_background": "light"
     },
     "output_type": "display_data"
    }
   ],
   "source": [
    "df['Donation Amount'].hist()"
   ]
  },
  {
   "cell_type": "markdown",
   "metadata": {},
   "source": [
    "## The top graph represents how much each source brought in as far as donations and the bottom graph represents how many times these gift sources appeared within the data.  For example, mail donations brought in about 2500 dollars but only appeared about 2 times within the data."
   ]
  },
  {
   "cell_type": "code",
   "execution_count": 12,
   "metadata": {},
   "outputs": [
    {
     "data": {
      "image/png": "[encoded data removed]",
      "text/plain": [
       "<Figure size 432x288 with 1 Axes>"
      ]
     },
     "metadata": {
      "needs_background": "light"
     },
     "output_type": "display_data"
    },
    {
     "data": {
      "image/png": "[encoded data removed]",
      "text/plain": [
       "<Figure size 432x288 with 1 Axes>"
      ]
     },
     "metadata": {
      "needs_background": "light"
     },
     "output_type": "display_data"
    }
   ],
   "source": [
    "df.groupby('Gift source')['Donation Amount'].sum().plot(kind='bar')\n",
    "plt.show()\n",
    "df.groupby('Gift source')['Donation Amount'].count().plot(kind='bar')\n",
    "plt.show()"
   ]
  },
  {
   "cell_type": "markdown",
   "metadata": {},
   "source": [
    "## The top graph represents how much each campaign brought in as far as donations and the bottom graph represents how many times each campaign appeared within the data. For example, the emergency food project brought in about 5,590 dollars but only appeared about 27 times within the data.¶"
   ]
  },
  {
   "cell_type": "code",
   "execution_count": 13,
   "metadata": {},
   "outputs": [
    {
     "data": {
      "image/png": "[encoded data removed]",
      "text/plain": [
       "<Figure size 432x288 with 1 Axes>"
      ]
     },
     "metadata": {
      "needs_background": "light"
     },
     "output_type": "display_data"
    },
    {
     "data": {
      "image/png": "[encoded data removed]",
      "text/plain": [
       "<Figure size 432x288 with 1 Axes>"
      ]
     },
     "metadata": {
      "needs_background": "light"
     },
     "output_type": "display_data"
    }
   ],
   "source": [
    "df.groupby( 'Campaign')['Donation Amount'].sum().plot(kind='bar')\n",
    "plt.show()\n",
    "df.groupby( 'Campaign')['Donation Amount'].count().plot(kind='bar')\n",
    "plt.show()"
   ]
  },
  {
   "cell_type": "code",
   "execution_count": 14,
   "metadata": {},
   "outputs": [],
   "source": [
    "df['Donation Date'] = pd.to_datetime(df['Donation Date'])"
   ]
  },
  {
   "cell_type": "markdown",
   "metadata": {},
   "source": [
    "## 14 donations made on 2020-05-05"
   ]
  },
  {
   "cell_type": "code",
   "execution_count": 16,
   "metadata": {},
   "outputs": [
    {
     "name": "stderr",
     "output_type": "stream",
     "text": [
      "C:\\Users\\willi\\Anaconda3\\lib\\site-packages\\ipykernel_launcher.py:1: FutureWarning: Treating datetime data as categorical rather than numeric in `.describe` is deprecated and will be removed in a future version of pandas. Specify `datetime_is_numeric=True` to silence this warning and adopt the future behavior now.\n",
      "  \"\"\"Entry point for launching an IPython kernel.\n"
     ]
    },
    {
     "data": {
      "text/plain": [
       "count                      82\n",
       "unique                     42\n",
       "top       2020-05-05 00:00:00\n",
       "freq                       14\n",
       "first     2017-11-28 00:00:00\n",
       "last      2021-04-19 00:00:00\n",
       "Name: Donation Date, dtype: object"
      ]
     },
     "execution_count": 16,
     "metadata": {},
     "output_type": "execute_result"
    }
   ],
   "source": [
    "df['Donation Date'].describe()"
   ]
  },
  {
   "cell_type": "markdown",
   "metadata": {},
   "source": [
    "## 42 of the dates occur more than once"
   ]
  },
  {
   "cell_type": "code",
   "execution_count": 17,
   "metadata": {},
   "outputs": [
    {
     "data": {
      "text/plain": [
       "array(['2019-03-23T00:00:00.000000000', '2017-11-28T00:00:00.000000000',\n",
       "       '2017-12-03T00:00:00.000000000', '2017-11-29T00:00:00.000000000',\n",
       "       '2020-05-05T00:00:00.000000000', '2019-10-11T00:00:00.000000000',\n",
       "       '2019-10-14T00:00:00.000000000', '2020-03-18T00:00:00.000000000',\n",
       "       '2020-06-05T00:00:00.000000000', '2020-07-05T00:00:00.000000000',\n",
       "       '2020-10-17T00:00:00.000000000', '2020-10-18T00:00:00.000000000',\n",
       "       '2020-11-18T00:00:00.000000000', '2020-12-18T00:00:00.000000000',\n",
       "       '2021-01-18T00:00:00.000000000', '2021-02-18T00:00:00.000000000',\n",
       "       '2021-03-18T00:00:00.000000000', '2021-03-21T00:00:00.000000000',\n",
       "       '2021-03-29T00:00:00.000000000', '2021-04-18T00:00:00.000000000',\n",
       "       '2020-06-20T00:00:00.000000000', '2020-03-28T00:00:00.000000000',\n",
       "       '2020-10-07T00:00:00.000000000', '2020-10-08T00:00:00.000000000',\n",
       "       '2020-05-19T00:00:00.000000000', '2020-12-19T00:00:00.000000000',\n",
       "       '2021-01-19T00:00:00.000000000', '2021-02-19T00:00:00.000000000',\n",
       "       '2021-03-19T00:00:00.000000000', '2021-04-19T00:00:00.000000000',\n",
       "       '2020-08-19T00:00:00.000000000', '2020-09-13T00:00:00.000000000',\n",
       "       '2020-09-19T00:00:00.000000000', '2020-10-19T00:00:00.000000000',\n",
       "       '2020-11-19T00:00:00.000000000', '2020-06-03T00:00:00.000000000',\n",
       "       '2020-06-11T00:00:00.000000000', '2020-06-19T00:00:00.000000000',\n",
       "       '2020-07-19T00:00:00.000000000', '2020-05-20T00:00:00.000000000',\n",
       "       '2020-12-15T00:00:00.000000000', '2020-05-10T00:00:00.000000000'],\n",
       "      dtype='datetime64[ns]')"
      ]
     },
     "execution_count": 17,
     "metadata": {},
     "output_type": "execute_result"
    }
   ],
   "source": [
    "df['Donation Date'].unique()"
   ]
  },
  {
   "cell_type": "code",
   "execution_count": 18,
   "metadata": {},
   "outputs": [],
   "source": [
    "df['year'] = df['Donation Date'].dt.year\n",
    "df['month'] = df['Donation Date'].dt.month\n",
    "df['day'] = df['Donation Date'].dt.day"
   ]
  },
  {
   "cell_type": "code",
   "execution_count": 19,
   "metadata": {},
   "outputs": [
    {
     "data": {
      "text/html": [
       "<div>\n",
       "<style scoped>\n",
       "    .dataframe tbody tr th:only-of-type {\n",
       "        vertical-align: middle;\n",
       "    }\n",
       "\n",
       "    .dataframe tbody tr th {\n",
       "        vertical-align: top;\n",
       "    }\n",
       "\n",
       "    .dataframe thead th {\n",
       "        text-align: right;\n",
       "    }\n",
       "</style>\n",
       "<table border=\"1\" class=\"dataframe\">\n",
       "  <thead>\n",
       "    <tr style=\"text-align: right;\">\n",
       "      <th></th>\n",
       "      <th>Donation Amount</th>\n",
       "      <th>year</th>\n",
       "      <th>month</th>\n",
       "      <th>day</th>\n",
       "    </tr>\n",
       "  </thead>\n",
       "  <tbody>\n",
       "    <tr>\n",
       "      <th>count</th>\n",
       "      <td>82.000000</td>\n",
       "      <td>82.000000</td>\n",
       "      <td>82.000000</td>\n",
       "      <td>82.000000</td>\n",
       "    </tr>\n",
       "    <tr>\n",
       "      <th>mean</th>\n",
       "      <td>129.731707</td>\n",
       "      <td>2019.573171</td>\n",
       "      <td>6.609756</td>\n",
       "      <td>16.512195</td>\n",
       "    </tr>\n",
       "    <tr>\n",
       "      <th>std</th>\n",
       "      <td>322.096989</td>\n",
       "      <td>1.176210</td>\n",
       "      <td>3.257493</td>\n",
       "      <td>7.953948</td>\n",
       "    </tr>\n",
       "    <tr>\n",
       "      <th>min</th>\n",
       "      <td>0.000000</td>\n",
       "      <td>2017.000000</td>\n",
       "      <td>1.000000</td>\n",
       "      <td>3.000000</td>\n",
       "    </tr>\n",
       "    <tr>\n",
       "      <th>25%</th>\n",
       "      <td>21.250000</td>\n",
       "      <td>2019.250000</td>\n",
       "      <td>5.000000</td>\n",
       "      <td>8.500000</td>\n",
       "    </tr>\n",
       "    <tr>\n",
       "      <th>50%</th>\n",
       "      <td>25.500000</td>\n",
       "      <td>2020.000000</td>\n",
       "      <td>5.000000</td>\n",
       "      <td>19.000000</td>\n",
       "    </tr>\n",
       "    <tr>\n",
       "      <th>75%</th>\n",
       "      <td>100.000000</td>\n",
       "      <td>2020.000000</td>\n",
       "      <td>10.000000</td>\n",
       "      <td>20.000000</td>\n",
       "    </tr>\n",
       "    <tr>\n",
       "      <th>max</th>\n",
       "      <td>2500.000000</td>\n",
       "      <td>2021.000000</td>\n",
       "      <td>12.000000</td>\n",
       "      <td>29.000000</td>\n",
       "    </tr>\n",
       "  </tbody>\n",
       "</table>\n",
       "</div>"
      ],
      "text/plain": [
       "       Donation Amount         year      month        day\n",
       "count        82.000000    82.000000  82.000000  82.000000\n",
       "mean        129.731707  2019.573171   6.609756  16.512195\n",
       "std         322.096989     1.176210   3.257493   7.953948\n",
       "min           0.000000  2017.000000   1.000000   3.000000\n",
       "25%          21.250000  2019.250000   5.000000   8.500000\n",
       "50%          25.500000  2020.000000   5.000000  19.000000\n",
       "75%         100.000000  2020.000000  10.000000  20.000000\n",
       "max        2500.000000  2021.000000  12.000000  29.000000"
      ]
     },
     "execution_count": 19,
     "metadata": {},
     "output_type": "execute_result"
    }
   ],
   "source": [
    "df.describe()"
   ]
  },
  {
   "cell_type": "code",
   "execution_count": 20,
   "metadata": {},
   "outputs": [
    {
     "data": {
      "text/plain": [
       "2020    51\n",
       "2017    12\n",
       "2021    10\n",
       "2019     9\n",
       "Name: year, dtype: int64"
      ]
     },
     "execution_count": 20,
     "metadata": {},
     "output_type": "execute_result"
    }
   ],
   "source": [
    "df['year'].value_counts()"
   ]
  },
  {
   "cell_type": "code",
   "execution_count": 21,
   "metadata": {},
   "outputs": [
    {
     "data": {
      "text/plain": [
       "5     26\n",
       "3     13\n",
       "11    12\n",
       "10     7\n",
       "12     6\n",
       "6      5\n",
       "7      3\n",
       "9      2\n",
       "8      2\n",
       "4      2\n",
       "2      2\n",
       "1      2\n",
       "Name: month, dtype: int64"
      ]
     },
     "execution_count": 21,
     "metadata": {},
     "output_type": "execute_result"
    }
   ],
   "source": [
    "df['month'].value_counts()"
   ]
  },
  {
   "cell_type": "code",
   "execution_count": 22,
   "metadata": {},
   "outputs": [
    {
     "data": {
      "text/plain": [
       "19    21\n",
       "5     16\n",
       "28     9\n",
       "18     8\n",
       "23     7\n",
       "20     4\n",
       "29     3\n",
       "3      3\n",
       "11     2\n",
       "15     2\n",
       "17     1\n",
       "14     1\n",
       "13     1\n",
       "10     1\n",
       "8      1\n",
       "7      1\n",
       "21     1\n",
       "Name: day, dtype: int64"
      ]
     },
     "execution_count": 22,
     "metadata": {},
     "output_type": "execute_result"
    }
   ],
   "source": [
    "df['day'].value_counts()"
   ]
  },
  {
   "cell_type": "code",
   "execution_count": 23,
   "metadata": {},
   "outputs": [
    {
     "data": {
      "image/png": "[encoded data removed]",
      "text/plain": [
       "<Figure size 432x288 with 1 Axes>"
      ]
     },
     "metadata": {
      "needs_background": "light"
     },
     "output_type": "display_data"
    },
    {
     "data": {
      "image/png": "[encoded data removed]",
      "text/plain": [
       "<Figure size 432x288 with 1 Axes>"
      ]
     },
     "metadata": {
      "needs_background": "light"
     },
     "output_type": "display_data"
    }
   ],
   "source": [
    "sns.boxplot(df['month'])\n",
    "plt.show()\n",
    "sns.boxplot(df['day'])\n",
    "plt.show()"
   ]
  },
  {
   "cell_type": "code",
   "execution_count": 24,
   "metadata": {},
   "outputs": [
    {
     "data": {
      "image/png": "[encoded data removed]",
      "text/plain": [
       "<Figure size 961.5x360 with 1 Axes>"
      ]
     },
     "metadata": {
      "needs_background": "light"
     },
     "output_type": "display_data"
    }
   ],
   "source": [
    "g = sns.catplot(x='Campaign', y='Donation Amount', hue = 'year', data=df, kind='bar',aspect=2.5)\n",
    "g.set_xticklabels(rotation=90)\n",
    "plt.show()"
   ]
  },
  {
   "cell_type": "markdown",
   "metadata": {},
   "source": [
    "## Facebook brought in the most donations in 2020 same with thw website. "
   ]
  },
  {
   "cell_type": "code",
   "execution_count": 25,
   "metadata": {},
   "outputs": [
    {
     "data": {
      "image/png": "[encoded data removed]",
      "text/plain": [
       "<Figure size 961.5x360 with 1 Axes>"
      ]
     },
     "metadata": {
      "needs_background": "light"
     },
     "output_type": "display_data"
    }
   ],
   "source": [
    "g = sns.catplot(x='Gift source', y='Donation Amount', hue = 'year', data=df, kind='bar',aspect=2.5)\n",
    "g.set_xticklabels(rotation=90)\n",
    "plt.show()"
   ]
  },
  {
   "cell_type": "code",
   "execution_count": 83,
   "metadata": {},
   "outputs": [
    {
     "name": "stdout",
     "output_type": "stream",
     "text": [
      "<class 'pandas.core.frame.DataFrame'>\n",
      "RangeIndex: 82 entries, 1 to 82\n",
      "Data columns (total 7 columns):\n",
      " #   Column           Non-Null Count  Dtype         \n",
      "---  ------           --------------  -----         \n",
      " 0   Donation Date    82 non-null     datetime64[ns]\n",
      " 1   Campaign         82 non-null     object        \n",
      " 2   Donation Amount  82 non-null     float64       \n",
      " 3   Gift source      82 non-null     object        \n",
      " 4   year             82 non-null     int64         \n",
      " 5   month            82 non-null     int64         \n",
      " 6   day              82 non-null     int64         \n",
      "dtypes: datetime64[ns](1), float64(1), int64(3), object(2)\n",
      "memory usage: 4.6+ KB\n"
     ]
    }
   ],
   "source": [
    "df.info()"
   ]
  },
  {
   "cell_type": "markdown",
   "metadata": {},
   "source": [
    "## May brought the most donations followed by a decrease and then another jump toward the end of the year. All year saw different amounts of donations so this does not represent all unrestricted donations."
   ]
  },
  {
   "cell_type": "code",
   "execution_count": 27,
   "metadata": {},
   "outputs": [
    {
     "data": {
      "image/png": "[encoded data removed]",
      "text/plain": [
       "<Figure size 432x288 with 1 Axes>"
      ]
     },
     "metadata": {
      "needs_background": "light"
     },
     "output_type": "display_data"
    },
    {
     "data": {
      "image/png": "[encoded data removed]",
      "text/plain": [
       "<Figure size 432x288 with 1 Axes>"
      ]
     },
     "metadata": {
      "needs_background": "light"
     },
     "output_type": "display_data"
    }
   ],
   "source": [
    "df.groupby( 'month')['Donation Amount'].sum().plot(kind='bar')\n",
    "plt.show()\n",
    "df.groupby( 'month')['Donation Amount'].count().plot(kind='bar')\n",
    "plt.show()"
   ]
  },
  {
   "cell_type": "code",
   "execution_count": 28,
   "metadata": {},
   "outputs": [
    {
     "data": {
      "image/png": "[encoded data removed]",
      "text/plain": [
       "<Figure size 432x288 with 1 Axes>"
      ]
     },
     "metadata": {
      "needs_background": "light"
     },
     "output_type": "display_data"
    },
    {
     "data": {
      "image/png": "[encoded data removed]",
      "text/plain": [
       "<Figure size 432x288 with 1 Axes>"
      ]
     },
     "metadata": {
      "needs_background": "light"
     },
     "output_type": "display_data"
    }
   ],
   "source": [
    "df.groupby( 'day')['Donation Amount'].sum().plot(kind='bar')\n",
    "plt.show()\n",
    "df.groupby( 'day')['Donation Amount'].count().plot(kind='bar')\n",
    "plt.show()"
   ]
  },
  {
   "cell_type": "code",
   "execution_count": 29,
   "metadata": {},
   "outputs": [
    {
     "data": {
      "image/png": "[encoded data removed]",
      "text/plain": [
       "<Figure size 432x288 with 1 Axes>"
      ]
     },
     "metadata": {
      "needs_background": "light"
     },
     "output_type": "display_data"
    },
    {
     "data": {
      "image/png": "[encoded data removed]",
      "text/plain": [
       "<Figure size 432x288 with 1 Axes>"
      ]
     },
     "metadata": {
      "needs_background": "light"
     },
     "output_type": "display_data"
    }
   ],
   "source": [
    "df.groupby( 'year')['Donation Amount'].sum().plot(kind='bar')\n",
    "plt.show()\n",
    "df.groupby( 'year')['Donation Amount'].count().plot(kind='bar')\n",
    "plt.show()"
   ]
  },
  {
   "cell_type": "code",
   "execution_count": 30,
   "metadata": {},
   "outputs": [],
   "source": [
    "df = df.set_index(df['Donation Date'])"
   ]
  },
  {
   "cell_type": "code",
   "execution_count": 31,
   "metadata": {},
   "outputs": [],
   "source": [
    "df = df.drop('Donation Date', axis=1)"
   ]
  },
  {
   "cell_type": "code",
   "execution_count": 32,
   "metadata": {},
   "outputs": [
    {
     "data": {
      "text/html": [
       "<div>\n",
       "<style scoped>\n",
       "    .dataframe tbody tr th:only-of-type {\n",
       "        vertical-align: middle;\n",
       "    }\n",
       "\n",
       "    .dataframe tbody tr th {\n",
       "        vertical-align: top;\n",
       "    }\n",
       "\n",
       "    .dataframe thead th {\n",
       "        text-align: right;\n",
       "    }\n",
       "</style>\n",
       "<table border=\"1\" class=\"dataframe\">\n",
       "  <thead>\n",
       "    <tr style=\"text-align: right;\">\n",
       "      <th></th>\n",
       "      <th>Campaign</th>\n",
       "      <th>Donation Amount</th>\n",
       "      <th>Gift source</th>\n",
       "      <th>year</th>\n",
       "      <th>month</th>\n",
       "      <th>day</th>\n",
       "    </tr>\n",
       "    <tr>\n",
       "      <th>Donation Date</th>\n",
       "      <th></th>\n",
       "      <th></th>\n",
       "      <th></th>\n",
       "      <th></th>\n",
       "      <th></th>\n",
       "      <th></th>\n",
       "    </tr>\n",
       "  </thead>\n",
       "  <tbody>\n",
       "    <tr>\n",
       "      <th>2019-03-23</th>\n",
       "      <td>Jane Sak Birthday Post 03.23.19</td>\n",
       "      <td>100.0</td>\n",
       "      <td>Facebook</td>\n",
       "      <td>2019</td>\n",
       "      <td>3</td>\n",
       "      <td>23</td>\n",
       "    </tr>\n",
       "    <tr>\n",
       "      <th>2019-03-23</th>\n",
       "      <td>Jane Sak Birthday Post 03.23.19</td>\n",
       "      <td>19.0</td>\n",
       "      <td>Facebook</td>\n",
       "      <td>2019</td>\n",
       "      <td>3</td>\n",
       "      <td>23</td>\n",
       "    </tr>\n",
       "    <tr>\n",
       "      <th>2019-03-23</th>\n",
       "      <td>Jane Sak Birthday Post 03.23.19</td>\n",
       "      <td>10.0</td>\n",
       "      <td>Facebook</td>\n",
       "      <td>2019</td>\n",
       "      <td>3</td>\n",
       "      <td>23</td>\n",
       "    </tr>\n",
       "    <tr>\n",
       "      <th>2019-03-23</th>\n",
       "      <td>Jane Sak Birthday Post 03.23.19</td>\n",
       "      <td>20.0</td>\n",
       "      <td>Facebook</td>\n",
       "      <td>2019</td>\n",
       "      <td>3</td>\n",
       "      <td>23</td>\n",
       "    </tr>\n",
       "    <tr>\n",
       "      <th>2019-03-23</th>\n",
       "      <td>Jane Sak Birthday Post 03.23.19</td>\n",
       "      <td>25.0</td>\n",
       "      <td>Facebook</td>\n",
       "      <td>2019</td>\n",
       "      <td>3</td>\n",
       "      <td>23</td>\n",
       "    </tr>\n",
       "  </tbody>\n",
       "</table>\n",
       "</div>"
      ],
      "text/plain": [
       "                                      Campaign  Donation Amount Gift source  \\\n",
       "Donation Date                                                                 \n",
       "2019-03-23     Jane Sak Birthday Post 03.23.19            100.0    Facebook   \n",
       "2019-03-23     Jane Sak Birthday Post 03.23.19             19.0    Facebook   \n",
       "2019-03-23     Jane Sak Birthday Post 03.23.19             10.0    Facebook   \n",
       "2019-03-23     Jane Sak Birthday Post 03.23.19             20.0    Facebook   \n",
       "2019-03-23     Jane Sak Birthday Post 03.23.19             25.0    Facebook   \n",
       "\n",
       "               year  month  day  \n",
       "Donation Date                    \n",
       "2019-03-23     2019      3   23  \n",
       "2019-03-23     2019      3   23  \n",
       "2019-03-23     2019      3   23  \n",
       "2019-03-23     2019      3   23  \n",
       "2019-03-23     2019      3   23  "
      ]
     },
     "execution_count": 32,
     "metadata": {},
     "output_type": "execute_result"
    }
   ],
   "source": [
    "df.head()"
   ]
  },
  {
   "cell_type": "code",
   "execution_count": null,
   "metadata": {},
   "outputs": [],
   "source": []
  }
 ],
 "metadata": {
  "kernelspec": {
   "display_name": "Python 3",
   "language": "python",
   "name": "python3"
  },
  "language_info": {
   "codemirror_mode": {
    "name": "ipython",
    "version": 3
   },
   "file_extension": ".py",
   "mimetype": "text/x-python",
   "name": "python",
   "nbconvert_exporter": "python",
   "pygments_lexer": "ipython3",
   "version": "3.7.4"
  }
 },
 "nbformat": 4,
 "nbformat_minor": 2
}
